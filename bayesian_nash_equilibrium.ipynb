{
 "cells": [
  {
   "cell_type": "markdown",
   "metadata": {},
   "source": [
    "# Bayesian Nash Equilibrium Against Malicious Users\n",
    "\n",
    "The objective of this notebook is to demonstrate how Bayes Theorem can help to calculate the probability of a user to be malicious, and how Game Theory's Nash Equilibrium can be used to draw a line between two strategies: block or allow.\n",
    "\n",
    "To demonstrate this, we will use the context of a web site that has a large majority of legitimate users, and very few users who try to abuse it."
   ]
  },
  {
   "cell_type": "markdown",
   "metadata": {},
   "source": [
    "## Nash Equilibrium: Deciding which strategy to use, and when.\n",
    "\n",
    "### Components of our game\n",
    "\n",
    "In Game Theory, we need `Players`, `Strategies` and `Payoffs`.\n",
    "\n",
    "Because we are adding Bayes on top of this, we  need to add two elements to the Players:\n",
    "* Players\n",
    "    * `Type`\n",
    "    * `Common Prior Belief`\n",
    "* Strategies \n",
    "* Payoffs  \n",
    "\n",
    "## The Game\n",
    "\n",
    "This is a game of Incomplete Information. \n",
    "\n",
    "As an example, here is a game between two players. Player1 can be of Type A or Type B. And for each strategies, their payoffs.\n",
    "\n",
    "A Type \n",
    "\n",
    "| | Left | Right|  \n",
    "| -- | -- | -- |   \n",
    "| up | 1,2 | 2,3 | \n",
    "| down | 3,4 | 5,6 |  \n",
    "\n",
    "B Type\n",
    "\n",
    "| | Left | Right |\n",
    "| -- | -- | -- |\n",
    "| up | 4,3 | 3,2 |\n",
    "| down | 7,4 | 4,2 |\n",
    "\n",
    "### The Players Types\n",
    "Player 1 represents each of our users: As player 2, we know that Player 1 can be of two types. But we don't know which one.\n",
    "    * Player 1: A Type, with probability p\n",
    "    * Player 1: B Type, with probability 1-p\n",
    "\n",
    "Player 2 knows that he is good, of course. And player 1 knows that as well.\n",
    "\n",
    "### Common Prior Belief\n",
    "About the `Common Prior Belief` now. By experience, Player 2 knows (or at least have an idea of) the probability of a user of being of A Type or B Type.\n",
    "- Player 1 knows that Player 2 knows that player 1 can be an A Type player with probability p, or a B Type player with probability 1-p.\n",
    "- Player 2 knows that Player 1 knows that player 2 knows that player 1 can be A Type or B Type\n",
    "- Player 1 knows that player 2 knows that Player 1 knows that player 2 knows that player 1 can be A Type or B Type\n",
    "- And so on. All this to confirm that no player is taking the other player for an idiot.\n",
    "\n",
    "### Strategies\n",
    "\n",
    "In the example above, Player 2 should take the strategy \"Down\" if he believe that Player 1 is of Type A with a probability of 40%."
   ]
  },
  {
   "cell_type": "markdown",
   "metadata": {},
   "source": [
    "## Applying this to Attack Prevention\n",
    "\n",
    "Let's apply the theory to a scenario: We are a web site owner, and we want to serve our users.\n",
    "\n",
    "We know that our users can be of two types:\n",
    "* A Type: Dishonest user\n",
    "* B Type: Honest user\n",
    "\n",
    "The way the model is built, it is important to keep the dishonest user as A Type.\n",
    "\n",
    "### How do we define the payoffs?\n",
    "\n",
    "In Information Security, we use risk assessments to quantify our risks. For the web, [OWASP has a nice Risk Rating Methodology model that can be easily used](https://www.owasp.org/index.php/OWASP_Risk_Rating_Methodology)\n",
    "\n",
    "We will use this model to calculate the payoffs of our players, plus few adjustments to take into consideration the cost of the countermeasures and the risk of misclassification of our users:\n",
    "\n",
    "Player 1: \n",
    "    * Threat Agent Factors (skill, motive, opportunity, size)\n",
    "    * Vulnerability Factors (discovery, exploit, awareness, risk to be detected)\n",
    "\n",
    "Player 2:\n",
    "    * Technical Impact Factors (loss of confidentiality, integrity, availability, accountability)\n",
    "    * Business Impact Factors (financial damage, reputation damage, compliance, privacy violation)\n",
    "    * Countermeasure Costs (development, external costs, operation costs, technical debt)\n",
    "    * Misclassification Impact (loss of sales, customers, bad publicity, customer service calls)\n",
    "    \n",
    "Each factors are averaged by 4, and are used to calculate the payoffs of each players\n",
    "\n",
    "Under each factor's elements, we added a weight that allows us to define how imporant we think each element is. The total of the weight should be **1** (100%), but the code doesn't assume that everyone is good at additions.\n",
    "\n",
    "## Vulnerability Definition (example)\n",
    "\n",
    "### Description\n",
    "\n",
    "* The website is vulnerable to login bruteforces\n",
    "* We have a weak attack detection mechanism\n",
    "\n",
    "### Risks\n",
    "\n",
    "Attackers could attack the login function and compromise users\n",
    "Personal data can be leaked\n",
    "Depending of the password strength of our users, a large number of users could be compromised.\n",
    "\n",
    "### Risk Classification\n",
    "\n",
    "For this part, we use the [OWASP Risk Rating Methodology](https://www.owasp.org/index.php/OWASP_Risk_Rating_Methodology) to assign a score to each factors"
   ]
  },
  {
   "cell_type": "code",
   "execution_count": 1,
   "metadata": {
    "collapsed": false
   },
   "outputs": [
    {
     "name": "stdout",
     "output_type": "stream",
     "text": [
      "Threat Agent Factors: 7.5\n"
     ]
    }
   ],
   "source": [
    "# Threat Agent Factors\n",
    "\n",
    "# Skill level\n",
    "# How technically skilled is this group of threat agents? \n",
    "# * No technical skills (1), \n",
    "# * some technical skills (3), \n",
    "# * advanced computer user (5), \n",
    "# * network and programming skills (6), \n",
    "# * security penetration skills (9),\n",
    "skill_level = 6\n",
    "skill_level_weight = 0.25\n",
    "\n",
    "# Motive\n",
    "# How motivated is this group of threat agents to find and exploit this vulnerability? \n",
    "# * Low or no reward (1), possible reward (4), high reward (9)\n",
    "motive = 8\n",
    "motive_weight = 0.25\n",
    "\n",
    "# Opportunity\n",
    "# What resources and opportunities are required for this group of threat agents to find and exploit this vulnerability?\n",
    "# * Full access or expensive resources required (0), \n",
    "# * special access or resources required (4), \n",
    "# * some access or resources required (7), \n",
    "# * no access or resources required (9)\n",
    "opportunity = 7\n",
    "opportunity_weight = 0.25\n",
    "\n",
    "# Size\n",
    "# How large is this group of threat agents? \n",
    "# * Developers (2), \n",
    "# * system administrators (2), \n",
    "# * intranet users (4), \n",
    "# * partners (5), \n",
    "# * authenticated users/customers(6), \n",
    "# * anonymous Internet users (9)\n",
    "size = 9\n",
    "size_weight = 0.25\n",
    "\n",
    "threat_agent_factors = skill_level * skill_level_weight + motive * motive_weight + opportunity * opportunity_weight + size * size_weight / (skill_level_weight + motive_weight + opportunity_weight + size_weight)\n",
    "\n",
    "print('Threat Agent Factors: {}'.format(threat_agent_factors))"
   ]
  },
  {
   "cell_type": "markdown",
   "metadata": {},
   "source": [
    "The `Threat Agent Factors` score represents how motivated we think a dishonest Player 1 (the attacker) is."
   ]
  },
  {
   "cell_type": "code",
   "execution_count": 2,
   "metadata": {
    "collapsed": false
   },
   "outputs": [
    {
     "name": "stdout",
     "output_type": "stream",
     "text": [
      "Vulnerability Factors: 8.0\n"
     ]
    }
   ],
   "source": [
    "# Vulnerability Factors\n",
    "\n",
    "# Ease_of discovery\n",
    "# How easy is it for this group of threat agents to discover this vulnerability? \n",
    "# * Practically impossible (1), \n",
    "# * difficult (3), \n",
    "# * easy (7), \n",
    "# * automated tools available (9)\n",
    "ease_of_discovery = 9\n",
    "ease_of_discovery_weight = 0.25\n",
    "\n",
    "# Ease of exploit\n",
    "# How easy is it for this group of threat agents to actually exploit this vulnerability? \n",
    "# Theoretical (1), difficult (3), easy (5), automated tools available (9)\n",
    "ease_of_exploit = 9\n",
    "ease_of_exploit_weight = 0.25\n",
    "\n",
    "# Awareness\n",
    "# How well known is this vulnerability to this group of threat agents? \n",
    "# Unknown (1), hidden (4), obvious (6), public knowledge (9)\n",
    "awareness = 6\n",
    "awareness_weight = 0.25\n",
    "\n",
    "# Intrusion detection\n",
    "# How likely is an exploit to be detected? \n",
    "# Active detection in application (1), logged and reviewed (3), logged without review (8), not logged (9)\n",
    "intrusion_detection = 8\n",
    "intrusion_detection_weight = 0.25\n",
    "\n",
    "vulnerability_factors = (ease_of_discovery * ease_of_discovery_weight + ease_of_exploit * ease_of_exploit_weight + awareness * awareness_weight + intrusion_detection * intrusion_detection_weight) / (ease_of_discovery_weight + ease_of_exploit_weight + awareness_weight + intrusion_detection_weight)\n",
    "\n",
    "print('Vulnerability Factors: {}'.format(vulnerability_factors))"
   ]
  },
  {
   "cell_type": "markdown",
   "metadata": {},
   "source": [
    "The `Vulnerability Factors` represent how likely a dishonest player 1 is to find and exploit the identified vulnerability."
   ]
  },
  {
   "cell_type": "code",
   "execution_count": 3,
   "metadata": {
    "collapsed": false
   },
   "outputs": [
    {
     "name": "stdout",
     "output_type": "stream",
     "text": [
      "Technical Impact Factors: 4.25\n"
     ]
    }
   ],
   "source": [
    "# Technical Impact Factors\n",
    "\n",
    "# Loss of confidentiality\n",
    "# How much data could be disclosed and how sensitive is it? \n",
    "# * Minimal non-sensitive data disclosed (2), \n",
    "# * minimal critical data disclosed (6), \n",
    "# * extensive non-sensitive data disclosed (6), \n",
    "# * extensive critical data disclosed (7), \n",
    "# * all data disclosed (9)\n",
    "loss_of_confidentiality = 6\n",
    "loss_of_confidentiality_weight = 0.25\n",
    "\n",
    "# Loss of integrity\n",
    "# How much data could be corrupted and how damaged is it? \n",
    "# * Minimal slightly corrupt data (1), \n",
    "# * minimal seriously corrupt data (3), \n",
    "# * extensive slightly corrupt data (5), \n",
    "# * extensive seriously corrupt data (7), \n",
    "# * all data totally corrupt (9)\n",
    "loss_of_integrity = 3\n",
    "loss_of_integrity_weight = 0.25\n",
    "\n",
    "# Loss of availability\n",
    "# How much service could be lost and how vital is it? \n",
    "# * Minimal secondary services interrupted (1), \n",
    "# * minimal primary services interrupted (5), \n",
    "# * extensive secondary services interrupted (5), \n",
    "# * extensive primary services interrupted (7), \n",
    "# * all services completely lost (9)\n",
    "loss_of_availability = 1\n",
    "loss_of_availability_weight = 0.25\n",
    "\n",
    "# Loss of accountability\n",
    "# Are the threat agents' actions traceable to an individual? \n",
    "# * Fully traceable (1), possibly traceable (7), completely anonymous (9)\n",
    "loss_of_accountability = 7\n",
    "loss_of_accountability_weight = 0.25\n",
    "\n",
    "technical_impact_factors = (loss_of_confidentiality * loss_of_confidentiality_weight + loss_of_integrity * loss_of_integrity_weight + loss_of_availability * loss_of_availability_weight + loss_of_accountability * loss_of_accountability_weight) / (loss_of_confidentiality_weight+loss_of_integrity_weight+loss_of_availability_weight+loss_of_accountability_weight)\n",
    "\n",
    "print('Technical Impact Factors: {}'.format(technical_impact_factors))"
   ]
  },
  {
   "cell_type": "markdown",
   "metadata": {},
   "source": [
    "The `Technical Impact Factors` describe how Player 2 will be technically be affected if the vulnerability is exploited."
   ]
  },
  {
   "cell_type": "code",
   "execution_count": 4,
   "metadata": {
    "collapsed": false
   },
   "outputs": [
    {
     "name": "stdout",
     "output_type": "stream",
     "text": [
      "Business Impact Factors: 4.75\n"
     ]
    }
   ],
   "source": [
    "# Business Impact Factors\n",
    "\n",
    "# Financial Damage\n",
    "# * How much financial damage will result from an exploit? \n",
    "# * Less than the cost to fix the vulnerability (1), \n",
    "# * minor effect on annual profit (3), \n",
    "# * significant effect on annual profit (7), \n",
    "# * bankruptcy (9)\n",
    "financial_damage = 4\n",
    "financial_damage_weight = 0.25\n",
    "\n",
    "\n",
    "# Reputation damage\n",
    "# Would an exploit result in reputation damage that would harm the business? \n",
    "# * Minimal damage (1), \n",
    "# * Loss of major accounts (4), \n",
    "# * loss of goodwill (5),\n",
    "# * brand damage (9)\n",
    "reputation_damage = 5\n",
    "reputation_damage_weight = 0.25\n",
    "\n",
    "# Non-compliance\n",
    "# * How much exposure does non-compliance introduce?\n",
    "# * Minor violation (2), clear violation (5), high profile violation (7)\n",
    "non_compliance = 5\n",
    "non_compliance_weight = 0.25\n",
    "\n",
    "# Privacy violation\n",
    "# How much personally identifiable information could be disclosed? \n",
    "# * One individual (3), hundreds of people (5), thousands of people (7), millions of people (9)\n",
    "privacy_violation = 5\n",
    "privacy_violation_weight = 0.25\n",
    "\n",
    "business_impact_factors = (financial_damage * financial_damage_weight + reputation_damage * reputation_damage_weight + non_compliance * non_compliance_weight + privacy_violation * privacy_violation_weight) / (financial_damage_weight + reputation_damage_weight + non_compliance_weight + privacy_violation_weight)\n",
    "\n",
    "print('Business Impact Factors: {}'.format(business_impact_factors))"
   ]
  },
  {
   "cell_type": "markdown",
   "metadata": {},
   "source": [
    "The `Business Impact Factor` is more about what executives, regulation and auditors cares about. "
   ]
  },
  {
   "cell_type": "markdown",
   "metadata": {},
   "source": [
    "## OWASP Risk Rating\n",
    "\n",
    "Using the OWASP Risk Rating Methodology, we can calculate the Overall Risk of this vulnerability.\n",
    "\n",
    "The formula from the Methodology is (somewhat like) the following:\n",
    "* Likelihood = (AVERAGE(`Threat Agent Factors` + `Vulnerability Factors`)/2)/9\n",
    "* Impact = (AVERAGE(`Technical Impact Factors` + `Business Impact Factors`)/2)/9\n",
    "\n",
    "* Overall Risk Severity = Likelihood * impact\n",
    "\n",
    "Note that unless every factors are 9, the `Overall Risk Severity` will never reach 100%. The risk tolerance should then be set from the risk appetite. For example:\n",
    "* High: all risks greater than 0.4\n",
    "* Medium: all risks greater than 0.3\n",
    "* Low: all risks lower than 0.3"
   ]
  },
  {
   "cell_type": "code",
   "execution_count": 5,
   "metadata": {},
   "outputs": [
    {
     "name": "stdout",
     "output_type": "stream",
     "text": [
      "0.4305555555555556\n"
     ]
    }
   ],
   "source": [
    "likelihood = ((threat_agent_factors + vulnerability_factors)/2)/9\n",
    "impact = ((technical_impact_factors + business_impact_factors)/2)/9\n",
    "\n",
    "risk = likelihood * impact\n",
    "print(risk)"
   ]
  },
  {
   "cell_type": "markdown",
   "metadata": {},
   "source": [
    "In this scenario, the risk calculated is 0.43, so **High** against our risk tolerance.\n",
    "\n",
    "From here, for all risks that are over your risk tolerance threshold, we should:\n",
    "* Make a remediation plan that addresses the vulnerability\n",
    "* Fix the issue\n",
    "\n",
    "No magic here... But let's say that you can't fix the issue and you need to rely on another option: \n",
    "* Installing countermeasures and block evil player ones who are trying to attack, while leaving happy player ones who just want to enjoy the site.\n",
    "\n",
    "This is where we need extra factors"
   ]
  },
  {
   "cell_type": "markdown",
   "metadata": {},
   "source": [
    "## Additional factors outside of the OWASP Risk Rating Methodology"
   ]
  },
  {
   "cell_type": "markdown",
   "metadata": {},
   "source": [
    "### Countermeasure Costs Factors\n",
    "The `countermeasure cost` isn't part of the OWASP model, but is still important to consider, especially since executives are likely to ask *how much will it cost to fix this issue* before authorizing any work to solve an issue."
   ]
  },
  {
   "cell_type": "code",
   "execution_count": 6,
   "metadata": {
    "collapsed": false
   },
   "outputs": [
    {
     "name": "stdout",
     "output_type": "stream",
     "text": [
      "Countermeasure Costs: 1.1\n"
     ]
    }
   ],
   "source": [
    "# Countermeasure Costs\n",
    "\n",
    "# Development Time\n",
    "# How long will it take to develop the countermeasure? \n",
    "# * One person less than a week (1), \n",
    "# * small team less then a month (3), \n",
    "# * project less than 3 months (6), \n",
    "# * major reform more than 6 months (9)\n",
    "development_time = 3\n",
    "development_time_weight = 0.1\n",
    "\n",
    "# 3rd Party Service/Solutions\n",
    "# Cost of 3rd party services and/or solutions?\n",
    "# * Minor costs (2), \n",
    "# * One time moderate acquisition costs (4), \n",
    "# * Moderate acquisition and ongoing support/license costs (6),\n",
    "# * Major Acquisition and ongoing support/license costs (9)\n",
    "external_support = 0\n",
    "external_support_weight = 0.3\n",
    "\n",
    "# Operation Time\n",
    "# How many people will be required to operate the countermeasures? \n",
    "# * Automated, minor operation (1),\n",
    "# * Once a week (2),\n",
    "# * Half time of one staff (4),\n",
    "# * Priority of few staffs (7), \n",
    "# * full team full time (9)\n",
    "operation_time = 1\n",
    "operation_time_weight = 0.4\n",
    "\n",
    "# Technical Debt\n",
    "# How much this countermeasure will make the system hard to maintain?\n",
    "# * Minor debt (3), \n",
    "# * few dependencies, moderate modifications (6)\n",
    "# * Major dependencies and Architecture change (9)\n",
    "technical_debt = 2\n",
    "technical_debt_weight = 0.2\n",
    "\n",
    "counteremasure_costs = (development_time * development_time_weight + external_support * external_support_weight + operation_time * operation_time_weight + technical_debt * technical_debt_weight) / (development_time_weight + external_support_weight + operation_time_weight + technical_debt_weight)\n",
    "\n",
    "print('Countermeasure Costs: {}'.format(counteremasure_costs))"
   ]
  },
  {
   "cell_type": "markdown",
   "metadata": {},
   "source": [
    "### (Mis)classification Impact\n",
    "So because we can't fix the issue and evil player ones are likely to try to abuse our site, we need to put in place a countermeasure. But at what percentage of belief should we start blocking users? 95%? 80%? 50%? 25%? \n",
    "\n",
    "This decision depends on the following:\n",
    "> If we actively block users based on their behavior, and we misclassify their intent, what are the consequences on the business?\n",
    "\n",
    "We all faced this once in our life: We are asked to block attacks, but if we block a legitimate users, it's the end of the world and all execs and public News Networks goes nuclear. \n",
    "\n",
    "We need to set a bar. This is where the Bayes comes to play. \n",
    "We have two player 1 profiles: dishonest with probability p, and honest with probability 1-p.\n",
    "Depending on the payoffs to Player 2, we can calculate under which probability p we should use the strategy \"block\", and with probability 1-p \"serve\" our users.\n",
    "\n",
    "Because this calculate a Nash Equilibrium, we shouldn't have any insentive to deviate from that equilibrium:\n",
    "* If we server users over probability p, we are maybe being more permissive, but we are pushing our risk telerance.\n",
    "* If we block users at a probability under p, then we are being too strict for our accepted risk tolerance.\n",
    "\n",
    "So unless we are are sure with probability p that player one is trying to exploit this vulnerability, we should allow him/her to use our site."
   ]
  },
  {
   "cell_type": "code",
   "execution_count": 7,
   "metadata": {
    "collapsed": false
   },
   "outputs": [
    {
     "name": "stdout",
     "output_type": "stream",
     "text": [
      "Classification Impact Factors if Player1 is A Type: 0.4\n",
      "Classification Impact Factors if Player1 is B Type: 5.0\n"
     ]
    }
   ],
   "source": [
    "# Misclassification Impact\n",
    "\n",
    "# Loss of sales\n",
    "# How much sales could be lost if we block a legitimate customer? \n",
    "# * 1000¥ (1), 10,000¥ (3), 50,000¥ (7), 100,000 (9)\n",
    "loss_of_sales_AType = 1 # What is the impact on sales if we misclassify a dishonest player 1?\n",
    "loss_of_sales_BType = 3 # What is the impact on sales if we misclassify an honest player 1?\n",
    "loss_of_sales_weight = 0.2 # How much weight should we give to this factor?\n",
    "\n",
    "# Loss of customer\n",
    "# How many legitimiate customers are we likely to lose? \n",
    "# Customers will come back (1), 1% will not come back (3), 10% will not come back (7), 50% will not come back (9)\n",
    "loss_of_customer_AType = 1 # What is the impact on visits if we misclassify a dishonest player 1?\n",
    "loss_of_customer_BType = 7 # What is the impact on visits if we misclassify an honest player 1?\n",
    "loss_of_customer_weight = 0.2\n",
    "\n",
    "# Bad Publicity\n",
    "# What kind of public coverage will we get if we block the users?\n",
    "# * private complains (1), Complains on twitter without hashtag (3), Complains #company (6), National News coverage (9)\n",
    "bad_publicity_AType = 0 # What is the impact on the public image if we misclassify a dishonest player 1?\n",
    "bad_publicity_BType = 6 # What is the impact on the public image if we misclassify an honest player 1?\n",
    "bad_publicity_weight = 0.4\n",
    "\n",
    "# CS Calls\n",
    "# Impact on the CS team for support: \n",
    "# one per day (1), less than 5 per day (3), 20 or more per day (5), 100 or more per day (7) 1000 or more per day (9)\n",
    "customer_service_calls_AType = 0 # How many calls are we subject to get if we misclassify a dishonest player 1?\n",
    "customer_service_calls_BType = 3 # How many calls are we subject to get if we misclassify an honest player 1?\n",
    "customer_service_calls_weight = 0.2\n",
    "        \n",
    "classification_impact_AType = (loss_of_sales_AType * loss_of_sales_weight) + (loss_of_customer_AType  * loss_of_customer_weight) + (bad_publicity_AType * bad_publicity_weight) + (customer_service_calls_AType * customer_service_calls_weight) / (loss_of_sales_weight + loss_of_customer_weight + bad_publicity_weight + customer_service_calls_weight)\n",
    "classification_impact_BType = (loss_of_sales_BType * loss_of_sales_weight) + (loss_of_customer_BType  * loss_of_customer_weight) + (bad_publicity_BType * bad_publicity_weight) + (customer_service_calls_BType * customer_service_calls_weight) / (loss_of_sales_weight + loss_of_customer_weight + bad_publicity_weight + customer_service_calls_weight)\n",
    "\n",
    "\n",
    "print('Classification Impact Factors if Player1 is A Type: {}'.format(classification_impact_AType))\n",
    "print('Classification Impact Factors if Player1 is B Type: {}'.format(classification_impact_BType))"
   ]
  },
  {
   "cell_type": "markdown",
   "metadata": {},
   "source": [
    "We now have all our necessary parameters to calculate our best strategy."
   ]
  },
  {
   "cell_type": "markdown",
   "metadata": {},
   "source": [
    "## Building our model\n",
    "\n",
    "We have all necessary parameters to calculate our best strategy.\n",
    "\n",
    "We now need to build our model. By using each factors to each payoffs of our two players game, we can calculate the gain or loss for each player.\n",
    "\n",
    "### Strategies for Player 1\n",
    "\n",
    "Player 1 knows what he is (dishonest or honest). Depending on his/her determination, he will pay attention to our site or not, and depending on the complexity to exploit the vulnerability, they are likely to be successful or not."
   ]
  },
  {
   "cell_type": "code",
   "execution_count": 8,
   "metadata": {
    "collapsed": false
   },
   "outputs": [],
   "source": [
    "# Loading necessary libraries\n",
    "\n",
    "%load_ext autoreload\n",
    "%autoreload 2\n",
    "\n",
    "import nashpy as nash\n",
    "import numpy as np\n",
    "import matplotlib.pyplot as plt"
   ]
  },
  {
   "cell_type": "code",
   "execution_count": 9,
   "metadata": {},
   "outputs": [],
   "source": [
    "strategy = {}"
   ]
  },
  {
   "cell_type": "code",
   "execution_count": 10,
   "metadata": {
    "collapsed": false
   },
   "outputs": [
    {
     "name": "stdout",
     "output_type": "stream",
     "text": [
      "[[ 4.25 -7.75]\n",
      " [15.5  -7.5 ]]\n",
      "[[-5.     5.   ]\n",
      " [-0.4   -2.925]]\n"
     ]
    }
   ],
   "source": [
    "strategy['player1'] = ['honest', 'abuse']\n",
    "\n",
    "# Dishonest Player 1\n",
    "player1AType = np.array([\n",
    "    [ \n",
    "        technical_impact_factors, # honest/serve: player1 can learn\n",
    "        -1 * (threat_agent_factors + vulnerability_factors) / 2 # honest/block: Waste of talent and time\n",
    "    ], \n",
    "    [\n",
    "        threat_agent_factors + vulnerability_factors, # abuse/serve: (player1 sweet spot): profit, depending on the difficulty\n",
    "        -1 * threat_agent_factors # abuse/block: Waste of time for player1\n",
    "    ]\n",
    "])\n",
    "\n",
    "# Honest Player 1\n",
    "player1BType = np.array([\n",
    "    [\n",
    "        -1 * classification_impact_BType, # honest/block: player1 can't enjoy our site, and will probably be annoyed\n",
    "        classification_impact_BType, # honest/serve: player1 is happy.\n",
    "        \n",
    "    ], \n",
    "    [\n",
    "        -1 * classification_impact_AType, # abuse/block: player1 is not acting normally. \n",
    "        -1 * (counteremasure_costs + business_impact_factors)/2 # abuse/serve: player1 is not acting normally, and not beling blocked\n",
    "    ]\n",
    "])\n",
    "\n",
    "print(player1AType)\n",
    "print(player1BType)"
   ]
  },
  {
   "cell_type": "markdown",
   "metadata": {},
   "source": [
    "## Strategies for Player 2\n",
    "\n",
    "Player 2 doesn't know what kind of player 1 he is facing. The decision to block or allow will then depend on his belief that player 1 is dishonest or not. This limit can be calculated by the payoffs."
   ]
  },
  {
   "cell_type": "code",
   "execution_count": 11,
   "metadata": {},
   "outputs": [
    {
     "name": "stdout",
     "output_type": "stream",
     "text": [
      "[[ 0.4        -0.4       ]\n",
      " [ 0.7        -3.36666667]]\n",
      "[[-6.1         5.        ]\n",
      " [-2.08333333 -2.925     ]]\n"
     ]
    }
   ],
   "source": [
    "strategy['player2'] = ['block', 'serve']\n",
    "\n",
    "player2AType = np.array([\n",
    "    [\n",
    "        classification_impact_AType, # honest/block: player2 prevents the attacker from learning\n",
    "        -1 * classification_impact_AType #honest/serve: makes it harder for player2 to identify normal/dishonest actions\n",
    "    ], \n",
    "    [\n",
    "        counteremasure_costs - classification_impact_AType, # abuse/block: prevent the risk, an hostile player 1 might not want to come back\n",
    "        -1 * (technical_impact_factors + business_impact_factors + counteremasure_costs)/3 # abuse/serve: failure to prevent the risk\n",
    "    ]\n",
    "])\n",
    "\n",
    "player2BType = np.array([\n",
    "    [\n",
    "        -1 * (classification_impact_BType + counteremasure_costs), # honest/block: worst case for player2, blocking good customers\n",
    "        classification_impact_BType, # honest/serve player2 sweet spot: profit\n",
    "    ], \n",
    "    [\n",
    "        -1 * (classification_impact_AType + business_impact_factors + counteremasure_costs)/3, # player2 can't distinguish between A Type and B Type\n",
    "        -1 * (business_impact_factors + counteremasure_costs)/2\n",
    "    ]\n",
    "])\n",
    "\n",
    "print(player2AType)\n",
    "print(player2BType)"
   ]
  },
  {
   "cell_type": "markdown",
   "metadata": {},
   "source": [
    "## Calculating the Nash Equilibrium\n",
    "\n",
    "The following function takes the payoffs for player 1 and player 2, and calculate the Nash Equilibrium under which Player 2 should apply strategy \"serve\" and over which he/she should apply strategy \"block\"."
   ]
  },
  {
   "cell_type": "code",
   "execution_count": 12,
   "metadata": {},
   "outputs": [],
   "source": [
    "def find_equilibria(p1TypeGame, strategy, player1Payoff, player2Payoff):\n",
    "    players = list(strategy.keys())\n",
    "    equilibria = p1TypeGame.support_enumeration()\n",
    "    choices = {players[0]: [], players[1]: []}\n",
    "    count = 0\n",
    "    for eq in equilibria:\n",
    "        count += 1\n",
    "        print('Equilibria {}'.format(count))\n",
    "        bestP1 = np.argmax(eq[0])\n",
    "        bestP2 = np.argmax(eq[1])\n",
    "        notBestP1 = np.argmin(eq[0])\n",
    "        notBestP2 = np.argmin(eq[1])\n",
    "        \n",
    "        print(\"'{}' prefered strategy '{}' with probability {:.2f}. Payoffs: most likely {}, otherwise {}\".format(\n",
    "                players[0], strategy[players[0]][bestP1], eq[bestP1][0], player1Payoff[bestP1][bestP2], player1Payoff[notBestP1][bestP2]\n",
    "            ))\n",
    "        print(\"'{}' prefered strategy '{}' with probability {:.2f}. Payoffs: most likely {}, otherwise {}\".format(\n",
    "                players[1], strategy[players[1]][bestP2], eq[1][bestP2], player2Payoff[bestP1][bestP2], player2Payoff[bestP1][notBestP2]\n",
    "            ))\n",
    "\n",
    "        choices[players[0]].append({\n",
    "            'strategy': strategy[players[0]][bestP1], \n",
    "            'probability': eq[0][bestP1],\n",
    "            'idx': bestP1,\n",
    "            'payoffs': [player1Payoff[bestP1][bestP2], player1Payoff[notBestP1][bestP2]]\n",
    "        })\n",
    "        choices[players[1]].append({\n",
    "            'strategy': strategy[players[1]][bestP2], \n",
    "            'probability': eq[0][bestP1],\n",
    "            'idx': bestP2,\n",
    "            'payoffs': [player2Payoff[bestP1][bestP2], player2Payoff[bestP1][notBestP2]]\n",
    "        })\n",
    "    return choices"
   ]
  },
  {
   "cell_type": "code",
   "execution_count": 13,
   "metadata": {},
   "outputs": [],
   "source": [
    "# Testing player2\n",
    "\n",
    "if 0:\n",
    "    player2AType = np.array([\n",
    "        [1,-1], \n",
    "        [0,-9]\n",
    "    ])\n",
    "\n",
    "    player2BType = np.array([\n",
    "        [-1,7], \n",
    "        [-1,-2]\n",
    "    ])\n",
    "\n",
    "    print(player2AType)\n",
    "    print(player2BType)"
   ]
  },
  {
   "cell_type": "code",
   "execution_count": 14,
   "metadata": {},
   "outputs": [],
   "source": [
    "# Function used to calculate the probability p\n",
    "\n",
    "def get_probability(a,b,c,d):\n",
    "    return (d-b)/(a-b+d-c)\n",
    "\n",
    "# Function used to graph an A Type player 1\n",
    "def fl(a,b,p):\n",
    "    return (a*p)+b*(1-p)\n",
    "\n",
    "# Function used to graph an B Type player 1\n",
    "def fr(c,d,p):\n",
    "    return (c*p)+d*(1-p)"
   ]
  },
  {
   "cell_type": "markdown",
   "metadata": {},
   "source": [
    "The following code uses the nashpy library to identify the nash equilibrium for each Player 1 types.\n",
    "\n",
    "From these Nash equilibrium, we can calculate probability p.\n",
    "\n",
    "*Note* that this code takes for granted that there is only one Nash Equilibrium. If there is more than one, it will use the first one."
   ]
  },
  {
   "cell_type": "code",
   "execution_count": 15,
   "metadata": {
    "collapsed": false
   },
   "outputs": [
    {
     "name": "stdout",
     "output_type": "stream",
     "text": [
      "Nash Equilibria\n",
      "Equilibria 1\n",
      "'player1' prefered strategy 'abuse' with probability 1.00. Payoffs: most likely 15.5, otherwise 4.25\n",
      "'player2' prefered strategy 'block' with probability 1.00. Payoffs: most likely 0.7000000000000001, otherwise -3.3666666666666667\n",
      "Equilibria 1\n",
      "'player1' prefered strategy 'honest' with probability 1.00. Payoffs: most likely 5.0, otherwise -2.925\n",
      "'player2' prefered strategy 'serve' with probability 1.00. Payoffs: most likely 5.0, otherwise -6.1\n",
      "Equilibria 2\n",
      "'player1' prefered strategy 'abuse' with probability 1.00. Payoffs: most likely -0.4, otherwise -5.0\n",
      "'player2' prefered strategy 'block' with probability 1.00. Payoffs: most likely -2.0833333333333335, otherwise -2.925\n",
      "Equilibria 3\n",
      "'player1' prefered strategy 'abuse' with probability 0.63. Payoffs: most likely -0.4, otherwise -5.0\n",
      "'player2' prefered strategy 'block' with probability 0.63. Payoffs: most likely -2.0833333333333335, otherwise -2.925\n",
      "\n",
      "Player2 should play \"block\" if he believes player1 will play \"abuse\" with probability p=0.7318681318681318\n"
     ]
    }
   ],
   "source": [
    "aType = nash.Game(player1AType, player2AType)\n",
    "bType = nash.Game(player1BType, player2BType)\n",
    "\n",
    "print('Nash Equilibria')\n",
    "\n",
    "resultAType = find_equilibria(aType, strategy, player1AType, player2AType)\n",
    "resultBType = find_equilibria(bType, strategy, player1BType, player2BType)\n",
    "\n",
    "# print(resultBType)\n",
    "a = resultAType['player2'][0]['payoffs'][0] # A Type, first equilibrium, best outcome\n",
    "b = resultBType['player2'][0]['payoffs'][1] # B Type, first equilibrium, worse outcome\n",
    "c = resultAType['player2'][0]['payoffs'][1] # A Type, first equilibrium, worse outcome\n",
    "d = resultBType['player2'][0]['payoffs'][0] # B Type, first equilibrium, best outcome\n",
    "p = get_probability(a,b,c,d)\n",
    "\n",
    "print('')\n",
    "print('Player2 should play \"{}\" if he believes player1 will play \"{}\" with probability p={}'.format(\n",
    "    strategy['player2'][resultAType['player2'][0]['idx']], \n",
    "    strategy['player1'][resultAType['player1'][0]['idx']], \n",
    "    p)\n",
    "     )"
   ]
  },
  {
   "cell_type": "markdown",
   "metadata": {},
   "source": [
    "### Graphing the strategies.\n",
    "\n",
    "With the values of `a` (Dishonest, best outcome), `b` (Honest, Worse outcome), `c` (Dishonest, worse outcome) and `d` (Honest, best outcome), we can graph the cases for each possible probability."
   ]
  },
  {
   "cell_type": "code",
   "execution_count": 16,
   "metadata": {},
   "outputs": [
    {
     "data": {
      "image/png": "[encoded data removed]",
      "text/plain": [
       "<matplotlib.figure.Figure at 0x1190d59b0>"
      ]
     },
     "metadata": {},
     "output_type": "display_data"
    }
   ],
   "source": [
    "t1 = np.arange(-0.1, 1.1, 0.1)\n",
    "\n",
    "# red dashes, blue squares and green triangles\n",
    "plt.plot(t1, fl(a,b,t1), 'r--', t1, fr(c,d,t1), 'b--')\n",
    "plt.xlabel('A Type')\n",
    "plt.ylabel('B Type')\n",
    "plt.annotate('Nash Equilibrium: {:.2f}%'.format(p*100), xy=(p+0.02, fr(c,d,p)+0.02), xytext=(p+0.2, fr(c,d,p)+1),\n",
    "             arrowprops=dict(facecolor='black', shrink=0.05),\n",
    "             )\n",
    "plt.suptitle('Player2: \"{}\", if player1 is \"{}\" with p={:.2f}'.format(\n",
    "    strategy['player2'][resultAType['player2'][0]['idx']], \n",
    "    strategy['player1'][resultAType['player1'][0]['idx']], \n",
    "    p))\n",
    "plt.show()"
   ]
  },
  {
   "cell_type": "markdown",
   "metadata": {},
   "source": [
    "# Conclusion\n",
    "\n",
    "From the risk rating, using the model defined, we can identify that our \"allow\" treshold should be ~73%. \n",
    "\n",
    "If the management doesn't accept this limit, the ratings of the factors should be revisited. Othewise, it should be the best possible strategy."
   ]
  }
 ],
 "metadata": {
  "kernelspec": {
   "display_name": "Python 3",
   "language": "python",
   "name": "python3"
  },
  "language_info": {
   "codemirror_mode": {
    "name": "ipython",
    "version": 3
   },
   "file_extension": ".py",
   "mimetype": "text/x-python",
   "name": "python",
   "nbconvert_exporter": "python",
   "pygments_lexer": "ipython3",
   "version": "3.6.4"
  }
 },
 "nbformat": 4,
 "nbformat_minor": 2
}
