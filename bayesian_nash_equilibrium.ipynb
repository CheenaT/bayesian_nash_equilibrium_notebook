{
 "cells": [
  {
   "cell_type": "markdown",
   "metadata": {},
   "source": [
    "# Bayesian Nash Equilibrium Against Malicious Users\n",
    "\n",
    "The objective of this notebook is to demonstrate how Bayes Theorem can help to calculate the probability of a user to be malicious, and how Game Theory's Nash Equilibrium can be used to draw a line between two strategies: block or allow.\n",
    "\n",
    "To demonstrate this, we will use the context of a web site that has a large majority of legitimate users, and very few users who try to abuse it."
   ]
  },
  {
   "cell_type": "markdown",
   "metadata": {},
   "source": [
    "## Nash Equilibrium: Deciding which strategy to use, and when.\n",
    "\n",
    "### Components of our game\n",
    "\n",
    "In Game Theory, we need `Players`, `Strategies` and `Payoffs`.\n",
    "\n",
    "Because we are adding Bayes on top of this, we  need to add two elements to the Players:\n",
    "* Players\n",
    "    * `Type`\n",
    "    * `Common Prior Belief`\n",
    "* Strategies \n",
    "* Payoffs  \n",
    "\n",
    "## The Game\n",
    "\n",
    "This is a game of Incomplete Information. \n",
    "\n",
    "(TODO) fix this graph\n",
    "A Type \n",
    "\n",
    "| | Left | Right|  \n",
    "| -- | -- | -- |   \n",
    "| up | 1,2 | 2,3 | \n",
    "| down | 3,4 | 5,6 |  \n",
    "\n",
    "B Type\n",
    "\n",
    "| | Left | Right |\n",
    "| -- | -- | -- |\n",
    "| up | 4,3 | 3,2 |\n",
    "| down | 7,4 | 4,2 |\n",
    "\n",
    "### The Players Types\n",
    "Player 1 represents each of our users: As player 2, we know that Player 1 can be of two types. But we don't know which one.\n",
    "    * Player 2: A Type: Happy User, with probability p\n",
    "    * Player 2: B Type: Vilain User, with probability 1-p\n",
    "\n",
    "Player 2 (the web site maintainers), and we are good, of course. And our users knows that.\n",
    "\n",
    "### Common Prior Belief\n",
    "About the `Common Prior Belief` now. By experience, Player 2 knows (or at least have an idea of) the probability of a user of being happy or vilain.\n",
    "- Player 1 knows that Player 2 knows that player 1 can be a Happy User with probability p, or a Vilain with probability 1-p.\n",
    "- Player 2 knows that Player 1 knows that player 2 knows that player 1 can be happy or vilain\n",
    "- Player 1 knows that player 2 knows that Player 1 knows that player 2 knows that player 1 can be happy or vilain\n",
    "- And so on. All this to confirm that no player is taking the other player for an idiot.\n",
    "\n",
    "### Strategies\n",
    "\n"
   ]
  },
  {
   "cell_type": "code",
   "execution_count": 1,
   "metadata": {
    "collapsed": true
   },
   "outputs": [],
   "source": [
    "#Vulnerability\n",
    "vulnerability = 'Weak authentication mechanism'\n",
    "risks = ['Account Takeover', 'fraudulent transaction', 'frauds']"
   ]
  },
  {
   "cell_type": "code",
   "execution_count": 47,
   "metadata": {
    "collapsed": false
   },
   "outputs": [
    {
     "name": "stdout",
     "output_type": "stream",
     "text": [
      "Threat Agent Factor: 2.0\n"
     ]
    }
   ],
   "source": [
    "# Threat Agent Factors\n",
    "\n",
    "# Skill level\n",
    "# How technically skilled is this group of threat agents? \n",
    "# * No technical skills (1), \n",
    "# * some technical skills (3), \n",
    "# * advanced computer user (5), \n",
    "# * network and programming skills (6), \n",
    "# * security penetration skills (9),\n",
    "skill_level = 1\n",
    "skill_level_weight = 0.25\n",
    "\n",
    "# Motive\n",
    "# How motivated is this group of threat agents to find and exploit this vulnerability? \n",
    "# * Low or no reward (1), possible reward (4), high reward (9)\n",
    "motive = 4\n",
    "motive_weight = 0.25\n",
    "\n",
    "# Opportunity\n",
    "# What resources and opportunities are required for this group of threat agents to find and exploit this vulnerability?\n",
    "# * Full access or expensive resources required (0), \n",
    "# * special access or resources required (4), \n",
    "# * some access or resources required (7), \n",
    "# * no access or resources required (9)\n",
    "opportunity = 1\n",
    "opportunity_weight = 0.25\n",
    "\n",
    "# Size\n",
    "# How large is this group of threat agents? \n",
    "# * Developers (2), \n",
    "# * system administrators (2), \n",
    "# * intranet users (4), \n",
    "# * partners (5), \n",
    "# * authenticated users/customers(6), \n",
    "# * anonymous Internet users (9)\n",
    "size = 2\n",
    "size_weight = 0.25\n",
    "\n",
    "threat_agent_factors = skill_level * skill_level_weight + motive * motive_weight + opportunity * opportunity_weight + size * size_weight / (skill_level_weight + motive_weight + opportunity_weight + size_weight)\n",
    "\n",
    "print('Threat Agent Factor: {}'.format(threat_agent_factors))"
   ]
  },
  {
   "cell_type": "code",
   "execution_count": 46,
   "metadata": {
    "collapsed": false
   },
   "outputs": [
    {
     "name": "stdout",
     "output_type": "stream",
     "text": [
      "Vulnerability Factors: 2.0\n"
     ]
    }
   ],
   "source": [
    "# Vulnerability Factors\n",
    "\n",
    "# Ease_of discovery\n",
    "# How easy is it for this group of threat agents to discover this vulnerability? \n",
    "# * Practically impossible (1), \n",
    "# * difficult (3), \n",
    "# * easy (7), \n",
    "# * automated tools available (9)\n",
    "ease_of_discovery = 1\n",
    "ease_of_discovery_weight = 0.25\n",
    "\n",
    "# Ease of exploit\n",
    "# How easy is it for this group of threat agents to actually exploit this vulnerability? \n",
    "# Theoretical (1), difficult (3), easy (5), automated tools available (9)\n",
    "ease_of_exploit = 1\n",
    "ease_of_exploit_weight = 0.25\n",
    "\n",
    "# Awareness\n",
    "# How well known is this vulnerability to this group of threat agents? \n",
    "# Unknown (1), hidden (4), obvious (6), public knowledge (9)\n",
    "awareness = 4\n",
    "awareness_weight = 0.25\n",
    "\n",
    "# Intrusion detection\n",
    "# How likely is an exploit to be detected? \n",
    "# Active detection in application (1), logged and reviewed (3), logged without review (8), not logged (9)\n",
    "intrusion_detection = 2\n",
    "intrusion_detection_weight = 0.25\n",
    "\n",
    "vulnerability_factors = (ease_of_discovery * ease_of_discovery_weight + ease_of_exploit * ease_of_exploit_weight + awareness * awareness_weight + intrusion_detection * intrusion_detection_weight) / (ease_of_discovery_weight + ease_of_exploit_weight + awareness_weight + intrusion_detection_weight)\n",
    "\n",
    "print('Vulnerability Factors: {}'.format(vulnerability_factors))"
   ]
  },
  {
   "cell_type": "code",
   "execution_count": 4,
   "metadata": {
    "collapsed": false
   },
   "outputs": [
    {
     "name": "stdout",
     "output_type": "stream",
     "text": [
      "Technical Impact Factors: 2.75\n"
     ]
    }
   ],
   "source": [
    "# Technical Impact Factors\n",
    "\n",
    "# Loss of confidentiality\n",
    "# How much data could be disclosed and how sensitive is it? \n",
    "# * Minimal non-sensitive data disclosed (2), \n",
    "# * minimal critical data disclosed (6), \n",
    "# * extensive non-sensitive data disclosed (6), \n",
    "# * extensive critical data disclosed (7), \n",
    "# * all data disclosed (9)\n",
    "loss_of_confidentiality = 4\n",
    "loss_of_confidentiality_weight = 0.25\n",
    "\n",
    "# Loss of integrity\n",
    "# How much data could be corrupted and how damaged is it? \n",
    "# * Minimal slightly corrupt data (1), \n",
    "# * minimal seriously corrupt data (3), \n",
    "# * extensive slightly corrupt data (5), \n",
    "# * extensive seriously corrupt data (7), \n",
    "# * all data totally corrupt (9)\n",
    "loss_of_integrity = 3\n",
    "loss_of_integrity_weight = 0.25\n",
    "\n",
    "# Loss of availability\n",
    "# How much service could be lost and how vital is it? \n",
    "# * Minimal secondary services interrupted (1), \n",
    "# * minimal primary services interrupted (5), \n",
    "# * extensive secondary services interrupted (5), \n",
    "# * extensive primary services interrupted (7), \n",
    "# * all services completely lost (9)\n",
    "loss_of_availability = 2\n",
    "loss_of_availability_weight = 0.25\n",
    "\n",
    "# Loss of accountability\n",
    "# Are the threat agents' actions traceable to an individual? \n",
    "# * Fully traceable (1), possibly traceable (7), completely anonymous (9)\n",
    "loss_of_accountability = 2\n",
    "loss_of_accountability_weight = 0.25\n",
    "\n",
    "technical_impact_factors = (loss_of_confidentiality * loss_of_confidentiality_weight + loss_of_integrity * loss_of_integrity_weight + loss_of_availability * loss_of_availability_weight + loss_of_accountability * loss_of_accountability_weight) / (loss_of_confidentiality_weight+loss_of_integrity_weight+loss_of_availability_weight+loss_of_accountability_weight)\n",
    "\n",
    "print('Technical Impact Factors: {}'.format(technical_impact_factors))"
   ]
  },
  {
   "cell_type": "code",
   "execution_count": 5,
   "metadata": {
    "collapsed": false
   },
   "outputs": [
    {
     "name": "stdout",
     "output_type": "stream",
     "text": [
      "Business Impact Factors: 2.75\n"
     ]
    }
   ],
   "source": [
    "# Business Impact Factors\n",
    "\n",
    "# Financial Damage\n",
    "# * How much financial damage will result from an exploit? \n",
    "# * Less than the cost to fix the vulnerability (1), \n",
    "# * minor effect on annual profit (3), \n",
    "# * significant effect on annual profit (7), \n",
    "# * bankruptcy (9)\n",
    "financial_damage = 3\n",
    "financial_damage_weight = 0.25\n",
    "\n",
    "\n",
    "# Reputation damage\n",
    "# Would an exploit result in reputation damage that would harm the business? \n",
    "# * Minimal damage (1), \n",
    "# * Loss of major accounts (4), \n",
    "# * loss of goodwill (5),\n",
    "# * brand damage (9)\n",
    "reputation_damage = 7\n",
    "reputation_damage_weight = 0.25\n",
    "\n",
    "# Non-compliance\n",
    "# * How much exposure does non-compliance introduce?\n",
    "# * Minor violation (2), clear violation (5), high profile violation (7)\n",
    "non_compliance = 4\n",
    "non_compliance_weight = 0.25\n",
    "\n",
    "# Privacy violation\n",
    "# How much personally identifiable information could be disclosed? \n",
    "# * One individual (3), hundreds of people (5), thousands of people (7), millions of people (9)\n",
    "privacy_violation = 3\n",
    "privacy_violation_weight = 0.25\n",
    "\n",
    "business_impact_factors = (financial_damage * financial_damage_weight + reputation_damage * reputation_damage_weight + non_compliance * non_compliance_weight + privacy_violation * privacy_violation_weight) / (financial_damage_weight + reputation_damage_weight + non_compliance_weight + privacy_violation_weight)\n",
    "\n",
    "print('Business Impact Factors: {}'.format(technical_impact_factors))"
   ]
  },
  {
   "cell_type": "code",
   "execution_count": 6,
   "metadata": {
    "collapsed": false
   },
   "outputs": [
    {
     "name": "stdout",
     "output_type": "stream",
     "text": [
      "Countermeasure Costs: 5.900000000000001\n"
     ]
    }
   ],
   "source": [
    "# Countermeasure Costs\n",
    "\n",
    "# Development Time\n",
    "# How long will it take to develop the countermeasure? \n",
    "# * One person less than a week (1), \n",
    "# * small team less then a month (3), \n",
    "# * project less than 3 months (6), \n",
    "# * major reform more than 6 months (9)\n",
    "development_time = 2\n",
    "development_time_weight = 0.1\n",
    "\n",
    "# 3rd Party Service/Solutions\n",
    "# Cost of 3rd party services and/or solutions?\n",
    "# * Minor costs (2), \n",
    "# * One time moderate acquisition costs (4), \n",
    "# * Moderate acquisition and ongoing support/license costs (6),\n",
    "# * Major Acquisition and ongoing support/license costs (9)\n",
    "external_support = 7\n",
    "external_support_weight = 0.3\n",
    "\n",
    "# Operation Time\n",
    "# How many people will be required to operate the countermeasures? \n",
    "# * Automated, minor operation (1),\n",
    "# * Once a week (2),\n",
    "# * Half time of one staff (4),\n",
    "# * Priority of few staffs (7), \n",
    "# * full team full time (9)\n",
    "operation_time = 6\n",
    "operation_time_weight = 0.4\n",
    "\n",
    "# Technical Debt\n",
    "# How much this countermeasure will make the system hard to maintain?\n",
    "# * Minor debt (3), \n",
    "# * few dependencies, moderate modifications (6)\n",
    "# * Major dependencies and Architecture change (9)\n",
    "technical_debt = 6\n",
    "technical_debt_weight = 0.2\n",
    "\n",
    "counteremasure_costs = (development_time * development_time_weight + external_support * external_support_weight + operation_time * operation_time_weight + technical_debt * technical_debt_weight) / (development_time_weight + external_support_weight + operation_time_weight + technical_debt_weight)\n",
    "\n",
    "print('Countermeasure Costs: {}'.format(counteremasure_costs))"
   ]
  },
  {
   "cell_type": "code",
   "execution_count": 54,
   "metadata": {
    "collapsed": false
   },
   "outputs": [
    {
     "name": "stdout",
     "output_type": "stream",
     "text": [
      "Classification Impact if Player1 is A Type: 0.4\n",
      "Classification Impact if Player1 is B Type: 8.8\n"
     ]
    }
   ],
   "source": [
    "# Classification Impact\n",
    "\n",
    "# Loss of sales\n",
    "# How much sales could be lost if we block a legitimate customer? \n",
    "# * 1000¥ (1), 10,000¥ (3), 50,000¥ (7), 100,000 (9)\n",
    "loss_of_sales_AType = 1\n",
    "loss_of_sales_BType = 9\n",
    "loss_of_sales_weight = 0.2\n",
    "\n",
    "# Loss of customer\n",
    "# How many legitimiate customers are we likely to lose? \n",
    "# Customers will come back (1), 1% will not come back (3), 10% will not come back (7), 50% will not come back (9)\n",
    "loss_of_customer_AType = 1\n",
    "loss_of_customer_BType = 9\n",
    "loss_of_customer_weight = 0.2\n",
    "\n",
    "# Bad Publicity\t0.4\n",
    "# What kind of coverage will we get if we block the users?\n",
    "# * private complains (1), Complains on twitter without hashtag (3), Complains #company (6), National News coverage (9)\n",
    "bad_publicity_AType = 0\n",
    "bad_publicity_BType = 9\n",
    "bad_publicity_weight = 0.4\n",
    "\n",
    "# CS Calls\t0.2\n",
    "# Impact on the CS team for support: \n",
    "# one per day (1), less than 5 per day (3), 20 or more per day (5), 100 or more per day (7) 1000 or more per day (9)\n",
    "customer_service_calls_AType = 0\n",
    "customer_service_calls_BType = 8\n",
    "customer_service_calls_weight = 0.2\n",
    "        \n",
    "classification_impact_AType = (loss_of_sales_AType * loss_of_sales_weight) + (loss_of_customer_AType  * loss_of_customer_weight) + (bad_publicity_AType * bad_publicity_weight) + (customer_service_calls_AType * customer_service_calls_weight) / (loss_of_sales_weight + loss_of_customer_weight + bad_publicity_weight + customer_service_calls_weight)\n",
    "classification_impact_BType = (loss_of_sales_BType * loss_of_sales_weight) + (loss_of_customer_BType  * loss_of_customer_weight) + (bad_publicity_BType * bad_publicity_weight) + (customer_service_calls_BType * customer_service_calls_weight) / (loss_of_sales_weight + loss_of_customer_weight + bad_publicity_weight + customer_service_calls_weight)\n",
    "\n",
    "\n",
    "print('Classification Impact if Player1 is A Type: {}'.format(classification_impact_AType))\n",
    "print('Classification Impact if Player1 is B Type: {}'.format(classification_impact_BType))"
   ]
  },
  {
   "cell_type": "code",
   "execution_count": 10,
   "metadata": {
    "collapsed": false
   },
   "outputs": [],
   "source": [
    "%load_ext autoreload\n",
    "%autoreload 2\n",
    "\n",
    "import nashpy as nash\n",
    "import numpy as np\n",
    "# from graphviz_helper import render_game"
   ]
  },
  {
   "cell_type": "code",
   "execution_count": 81,
   "metadata": {
    "collapsed": false
   },
   "outputs": [
    {
     "name": "stdout",
     "output_type": "stream",
     "text": [
      "[[ 2.75 -2.  ]\n",
      " [ 4.   -2.  ]]\n",
      "[[ 0.4 -0.4]\n",
      " [ 5.9 -7. ]]\n",
      "[[-8.8    8.8  ]\n",
      " [-0.4   -5.075]]\n",
      "[[-14.7     8.8  ]\n",
      " [ -5.275  -5.075]]\n"
     ]
    }
   ],
   "source": [
    "strategy = {\n",
    "    'player1': ['honest', 'abuse'],\n",
    "    'player2': ['block', 'serve']\n",
    "}\n",
    "\n",
    "player1AType = np.array([\n",
    "    [ \n",
    "        technical_impact_factors, # honest/serve: player1 can learn\n",
    "        -1 * (threat_agent_factors + vulnerability_factors) / 2 # honest/block: Waste of talent and time\n",
    "    ], \n",
    "    [\n",
    "        threat_agent_factors + vulnerability_factors, # abuse/serve: (player1 sweet spot): profit, depending on the difficulty\n",
    "        -1 * threat_agent_factors # abuse/block: Waste of time for player1\n",
    "    ]\n",
    "])\n",
    "player2AType = np.array([\n",
    "    [\n",
    "        classification_impact_AType, # honest/block: player2 prevents the attacker from learning\n",
    "        -1 * classification_impact_AType #honest/serve: makes it harder for player2 to identify normal/dishonest actions\n",
    "    ], \n",
    "    [\n",
    "        counteremasure_costs, # abuse/block: prevent the risk \n",
    "        -1 * (technical_impact_factors + business_impact_factors) # abuse/serve: failure to prevent the risk\n",
    "    ]\n",
    "])\n",
    "\n",
    "player1BType = np.array([\n",
    "    [\n",
    "        -1 * classification_impact_BType, # honest/block: player1 can't enjoy our site, and will probably be annoyed\n",
    "        classification_impact_BType, # honest/serve: player1 is happy.\n",
    "        \n",
    "    ], \n",
    "    [\n",
    "        -1 * classification_impact_AType, # abuse/block: player1 is not acting normally. \n",
    "        -1 * (counteremasure_costs + business_impact_factors)/2 # abuse/serve: player1 is not acting normally, and not beling blocked\n",
    "    ]\n",
    "])\n",
    "player2BType = np.array([\n",
    "    [\n",
    "        -1 * (classification_impact_BType + counteremasure_costs), # honest/block: worst case for player2, blocking good customers\n",
    "        classification_impact_BType, # honest/serve player2 sweet spot: profit\n",
    "    ], \n",
    "    [\n",
    "        -1 * (classification_impact_AType + business_impact_factors + counteremasure_costs)/2, # player2 can't distinguish between A Type and B Type\n",
    "        -1 * (counteremasure_costs + business_impact_factors)/2\n",
    "    ]\n",
    "])\n",
    "\n",
    "print(player1AType)\n",
    "print(player2AType)\n",
    "print(player1BType)\n",
    "print(player2BType)"
   ]
  },
  {
   "cell_type": "code",
   "execution_count": 34,
   "metadata": {
    "collapsed": false
   },
   "outputs": [
    {
     "name": "stdout",
     "output_type": "stream",
     "text": [
      "[[3 1]\n",
      " [4 2]]\n",
      "[[4 0]\n",
      " [3 0]]\n",
      "[[ 6  0]\n",
      " [ 5 -1]]\n",
      "[[2 4]\n",
      " [1 4]]\n"
     ]
    }
   ],
   "source": [
    "strategy = {\n",
    "    'player1': ['up', 'down'],\n",
    "    'player2': ['left', 'right']\n",
    "}\n",
    "\n",
    "player1AType = np.array([\n",
    "    [3,1], \n",
    "    [4,2]\n",
    "])\n",
    "player2AType = np.array([\n",
    "    [4,0], \n",
    "    [3,0]\n",
    "])\n",
    "\n",
    "player1BType = np.array([\n",
    "    [6,0], \n",
    "    [5,-1]\n",
    "])\n",
    "player2BType = np.array([\n",
    "    [2,4], \n",
    "    [1,4]\n",
    "])\n",
    "\n",
    "print(player1AType)\n",
    "print(player2AType)\n",
    "print(player1BType)\n",
    "print(player2BType)"
   ]
  },
  {
   "cell_type": "code",
   "execution_count": 77,
   "metadata": {},
   "outputs": [],
   "source": [
    "def find_equilibria(p1TypeGame, strategy, player1Payoff, player2Payoff):\n",
    "    players = list(strategy.keys())\n",
    "    equilibria = p1TypeGame.support_enumeration()\n",
    "    choices = {players[0]: [], players[1]: []}\n",
    "    count = 0\n",
    "    for eq in equilibria:\n",
    "        count += 1\n",
    "        print('Equilibria {}'.format(count))\n",
    "        bestP1 = np.argmax(eq[0])\n",
    "        bestP2 = np.argmax(eq[1])\n",
    "        notBestP1 = np.argmin(eq[0])\n",
    "        notBestP2 = np.argmin(eq[1])\n",
    "        \n",
    "        print(\"'{}' prefered strategy '{}' with probability {:.2f}. Payoffs: most likely {}, otherwise {}\".format(\n",
    "                players[0], strategy[players[0]][bestP1], eq[bestP1][0], player1Payoff[bestP1][bestP2], player1Payoff[notBestP1][bestP2]\n",
    "            ))\n",
    "        print(\"'{}' prefered strategy '{}' with probability {:.2f}. Payoffs: most likely {}, otherwise {}\".format(\n",
    "                players[1], strategy[players[1]][bestP2], eq[1][bestP2], player2Payoff[bestP1][bestP2], player2Payoff[bestP1][notBestP2]\n",
    "            ))\n",
    "\n",
    "        choices[players[0]].append({\n",
    "            'strategy': strategy[players[0]][bestP1], \n",
    "            'probability': eq[0][bestP1],\n",
    "            'idx': bestP1,\n",
    "            'payoffs': [player1Payoff[bestP1][bestP2], player1Payoff[notBestP1][bestP2]]\n",
    "        })\n",
    "        choices[players[1]].append({\n",
    "            'strategy': strategy[players[1]][bestP2], \n",
    "            'probability': eq[0][bestP1],\n",
    "            'idx': bestP2,\n",
    "            'payoffs': [player2Payoff[bestP1][bestP2], player2Payoff[bestP1][notBestP2]]\n",
    "        })\n",
    "    return choices"
   ]
  },
  {
   "cell_type": "code",
   "execution_count": 78,
   "metadata": {
    "collapsed": false
   },
   "outputs": [
    {
     "name": "stdout",
     "output_type": "stream",
     "text": [
      "Nash Equilibria\n",
      "Equilibria 1\n",
      "'player1' prefered strategy 'abuse' with probability 1.00. Payoffs: most likely 4.0, otherwise 2.75\n",
      "'player2' prefered strategy 'block' with probability 1.00. Payoffs: most likely 5.900000000000001, otherwise -7.0\n",
      "Equilibria 1\n",
      "'player1' prefered strategy 'honest' with probability 1.00. Payoffs: most likely 8.8, otherwise -4.4\n",
      "'player2' prefered strategy 'serve' with probability 1.00. Payoffs: most likely 8.8, otherwise -14.700000000000003\n",
      "Equilibria 2\n",
      "'player1' prefered strategy 'abuse' with probability 1.00. Payoffs: most likely -0.4, otherwise -8.8\n",
      "'player2' prefered strategy 'block' with probability 1.00. Payoffs: most likely -0.4, otherwise -2.9500000000000006\n",
      "Equilibria 3\n",
      "'player1' prefered strategy 'abuse' with probability 0.61. Payoffs: most likely -0.4, otherwise -8.8\n",
      "'player2' prefered strategy 'block' with probability 0.61. Payoffs: most likely -0.4, otherwise -2.9500000000000006\n",
      "\n",
      "Player2 should play \"block\" if he believes player1 will play \"abuse\" with probability p=0.6456043956043956\n"
     ]
    }
   ],
   "source": [
    "aType = nash.Game(player1AType, player2AType)\n",
    "bType = nash.Game(player1BType, player2BType)\n",
    "\n",
    "print('Nash Equilibria')\n",
    "\n",
    "resultAType = find_equilibria(aType, strategy, player1AType, player2AType)\n",
    "resultBType = find_equilibria(bType, strategy, player1BType, player2BType)\n",
    "\n",
    "# print(resultBType)\n",
    "a = resultAType['player2'][0]['payoffs'][0] # A Type, first equilibrium, best outcome\n",
    "b = resultAType['player2'][0]['payoffs'][1] # A Type, first equilibrium, worse outcome\n",
    "c = resultBType['player2'][0]['payoffs'][1] # A Type, first equilibrium, worse outcome\n",
    "d = resultBType['player2'][0]['payoffs'][0] # A Type, first equilibrium, best outcome\n",
    "p = (d-c)/(a-c+d-b)\n",
    "\n",
    "print('')\n",
    "print('Player2 should play \"{}\" if he believes player1 will play \"{}\" with probability p={}'.format(\n",
    "    strategy['player2'][resultAType['player2'][0]['idx']], \n",
    "    strategy['player1'][resultAType['player1'][0]['idx']], \n",
    "    p)\n",
    "     )"
   ]
  },
  {
   "cell_type": "code",
   "execution_count": 11,
   "metadata": {
    "collapsed": false
   },
   "outputs": [
    {
     "data": {
      "image/svg+xml": [
       "<?xml version=\"1.0\" encoding=\"UTF-8\" standalone=\"no\"?>\n",
       "<!DOCTYPE svg PUBLIC \"-//W3C//DTD SVG 1.1//EN\"\n",
       " \"http://www.w3.org/Graphics/SVG/1.1/DTD/svg11.dtd\">\n",
       "<!-- Generated by graphviz version 2.40.1 (20161225.0304)\n",
       " -->\n",
       "<!-- Title: html_table Pages: 1 -->\n",
       "<svg width=\"62pt\" height=\"46pt\"\n",
       " viewBox=\"0.00 0.00 62.00 46.18\" xmlns=\"http://www.w3.org/2000/svg\" xmlns:xlink=\"http://www.w3.org/1999/xlink\">\n",
       "<g id=\"graph0\" class=\"graph\" transform=\"scale(1 1) rotate(0) translate(4 42.1838)\">\n",
       "<title>html_table</title>\n",
       "<polygon fill=\"#ffffff\" stroke=\"transparent\" points=\"-4,4 -4,-42.1838 58,-42.1838 58,4 -4,4\"/>\n",
       "<!-- tab -->\n",
       "<g id=\"node1\" class=\"node\">\n",
       "<title>tab</title>\n",
       "<ellipse fill=\"none\" stroke=\"#000000\" cx=\"27\" cy=\"-19.0919\" rx=\"27\" ry=\"19.1842\"/>\n",
       "<polygon fill=\"none\" stroke=\"#000000\" points=\"19,-15.0919 19,-28.0919 35,-28.0919 35,-15.0919 19,-15.0919\"/>\n",
       "<text text-anchor=\"start\" x=\"21.9465\" y=\"-19.4919\" font-family=\"Times,serif\" font-size=\"7.00\" fill=\"#000000\">xyz</text>\n",
       "<polygon fill=\"none\" stroke=\"#000000\" points=\"19,-9.0919 19,-15.0919 35,-15.0919 35,-9.0919 19,-9.0919\"/>\n",
       "</g>\n",
       "</g>\n",
       "</svg>\n"
      ],
      "text/plain": [
       "<graphviz.dot.Graph at 0x107619438>"
      ]
     },
     "execution_count": 11,
     "metadata": {},
     "output_type": "execute_result"
    }
   ],
   "source": [
    "# g = render_game(players, types, beliefs, strategies, payoffs)\n",
    "\n",
    "# g"
   ]
  }
 ],
 "metadata": {
  "kernelspec": {
   "display_name": "Python 3",
   "language": "python",
   "name": "python3"
  },
  "language_info": {
   "codemirror_mode": {
    "name": "ipython",
    "version": 3
   },
   "file_extension": ".py",
   "mimetype": "text/x-python",
   "name": "python",
   "nbconvert_exporter": "python",
   "pygments_lexer": "ipython3",
   "version": "3.6.4"
  }
 },
 "nbformat": 4,
 "nbformat_minor": 2
}
