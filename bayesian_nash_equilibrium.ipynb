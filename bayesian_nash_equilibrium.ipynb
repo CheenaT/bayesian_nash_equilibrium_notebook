{
 "cells": [
  {
   "cell_type": "markdown",
   "metadata": {},
   "source": [
    "# Bayesian Nash Equilibrium Against Malicious Users\n",
    "\n",
    "The objective of this notebook is to demonstrate how Bayes Theorem can help to calculate the probability of a user to be malicious, and how Game Theory's Nash Equilibrium can be used to draw a line between two strategies: block or allow.\n",
    "\n",
    "To demonstrate this, we will use the context of a web site that has a large majority of legitimate users, and very few users who try to abuse it."
   ]
  },
  {
   "cell_type": "markdown",
   "metadata": {},
   "source": [
    "## Nash Equilibrium: Deciding which strategy to use, and when.\n",
    "\n",
    "### Components of our game\n",
    "\n",
    "In Game Theory, we need `Players`, `Strategies` and `Payoffs`.\n",
    "\n",
    "Because we are adding Bayes on top of this, we  need to add two elements to the Players:\n",
    "* Players\n",
    "    * `Type`\n",
    "    * `Common Prior Belief`\n",
    "* Strategies \n",
    "* Payoffs  \n",
    "\n",
    "## The Game\n",
    "\n",
    "This is a game of Incomplete Information. \n",
    "\n",
    "(TODO) fix this graph\n",
    "A Type \n",
    "\n",
    "| | Left | Right|  \n",
    "| -- | -- | -- |   \n",
    "| up | 1,2 | 2,3 | \n",
    "| down | 3,4 | 5,6 |  \n",
    "\n",
    "B Type\n",
    "\n",
    "| | Left | Right |\n",
    "| -- | -- | -- |\n",
    "| up | 4,3 | 3,2 |\n",
    "| down | 7,4 | 4,2 |\n",
    "\n",
    "### The Players Types\n",
    "Player 1 represents each of our users: As player 2, we know that Player 1 can be of two types. But we don't know which one.\n",
    "    * Player 2: A Type: Happy User, with probability p\n",
    "    * Player 2: B Type: Vilain User, with probability 1-p\n",
    "\n",
    "Player 2 (the web site maintainers), and we are good, of course. And our users knows that.\n",
    "\n",
    "### Common Prior Belief\n",
    "About the `Common Prior Belief` now. By experience, Player 2 knows (or at least have an idea of) the probability of a user of being happy or vilain.\n",
    "- Player 1 knows that Player 2 knows that player 1 can be a Happy User with probability p, or a Vilain with probability 1-p.\n",
    "- Player 2 knows that Player 1 knows that player 2 knows that player 1 can be happy or vilain\n",
    "- Player 1 knows that player 2 knows that Player 1 knows that player 2 knows that player 1 can be happy or vilain\n",
    "- And so on. All this to confirm that no player is taking the other player for an idiot.\n",
    "\n",
    "### Strategies\n",
    "\n"
   ]
  },
  {
   "cell_type": "code",
   "execution_count": null,
   "metadata": {
    "collapsed": true
   },
   "outputs": [],
   "source": [
    "#Vulnerability\n",
    "vulnerability = 'Weak authentication mechanism'\n",
    "risks = ['Account Takeover', 'fraudulent transaction', 'frauds']"
   ]
  },
  {
   "cell_type": "code",
   "execution_count": 22,
   "metadata": {
    "collapsed": false
   },
   "outputs": [
    {
     "name": "stdout",
     "output_type": "stream",
     "text": [
      "Threat Agent Factor: 7.0\n"
     ]
    }
   ],
   "source": [
    "# Threat Agent Factors\n",
    "\n",
    "# Skill level\n",
    "# How technically skilled is this group of threat agents? \n",
    "# * No technical skills (1), \n",
    "# * some technical skills (3), \n",
    "# * advanced computer user (5), \n",
    "# * network and programming skills (6), \n",
    "# * security penetration skills (9),\n",
    "skill_level = 6\n",
    "skill_level_weight = 0.25\n",
    "\n",
    "# Motive\n",
    "# How motivated is this group of threat agents to find and exploit this vulnerability? \n",
    "# * Low or no reward (1), possible reward (4), high reward (9)\n",
    "motive = 8\n",
    "motive_weight = 0.25\n",
    "\n",
    "# Opportunity\n",
    "# What resources and opportunities are required for this group of threat agents to find and exploit this vulnerability?\n",
    "# * Full access or expensive resources required (0), \n",
    "# * special access or resources required (4), \n",
    "# * some access or resources required (7), \n",
    "# * no access or resources required (9)\n",
    "opportunity = 8\n",
    "opportunity_weight = 0.25\n",
    "\n",
    "# Size\n",
    "# How large is this group of threat agents? \n",
    "# * Developers (2), \n",
    "# * system administrators (2), \n",
    "# * intranet users (4), \n",
    "# * partners (5), \n",
    "# * authenticated users/customers(6), \n",
    "# * anonymous Internet users (9)\n",
    "size = 6\n",
    "size_weight = 0.25\n",
    "\n",
    "threat_agent_factors = skill_level * skill_level_weight + motive * motive_weight + opportunity * opportunity_weight + size * size_weight / (skill_level_weight + motive_weight + opportunity_weight + size_weight)\n",
    "\n",
    "print('Threat Agent Factor: {}'.format(threat_agent_factors))"
   ]
  },
  {
   "cell_type": "code",
   "execution_count": 23,
   "metadata": {
    "collapsed": false
   },
   "outputs": [
    {
     "name": "stdout",
     "output_type": "stream",
     "text": [
      "Vulnerability Factors: 5.0\n"
     ]
    }
   ],
   "source": [
    "# Vulnerability Factors\n",
    "\n",
    "# Ease_of discovery\n",
    "# How easy is it for this group of threat agents to discover this vulnerability? \n",
    "# * Practically impossible (1), \n",
    "# * difficult (3), \n",
    "# * easy (7), \n",
    "# * automated tools available (9)\n",
    "ease_of_discovery = 7\n",
    "ease_of_discovery_weight = 0.25\n",
    "\n",
    "# Ease of exploit\n",
    "# How easy is it for this group of threat agents to actually exploit this vulnerability? \n",
    "# Theoretical (1), difficult (3), easy (5), automated tools available (9)\n",
    "ease_of_exploit = 5\n",
    "ease_of_exploit_weight = 0.25\n",
    "\n",
    "# Awareness\n",
    "# How well known is this vulnerability to this group of threat agents? \n",
    "# Unknown (1), hidden (4), obvious (6), public knowledge (9)\n",
    "awareness = 5\n",
    "awareness_weight = 0.25\n",
    "\n",
    "# Intrusion detection\n",
    "# How likely is an exploit to be detected? \n",
    "# Active detection in application (1), logged and reviewed (3), logged without review (8), not logged (9)\n",
    "intrusion_detection = 3\n",
    "intrusion_detection_weight = 0.25\n",
    "\n",
    "vulnerability_factors = (ease_of_discovery * ease_of_discovery_weight + ease_of_exploit * ease_of_exploit_weight + awareness * awareness_weight + intrusion_detection * intrusion_detection_weight) / (ease_of_discovery_weight + ease_of_exploit_weight + awareness_weight + intrusion_detection_weight)\n",
    "\n",
    "print('Vulnerability Factors: {}'.format(vulnerability_factors))"
   ]
  },
  {
   "cell_type": "code",
   "execution_count": 24,
   "metadata": {
    "collapsed": false
   },
   "outputs": [
    {
     "name": "stdout",
     "output_type": "stream",
     "text": [
      "Technical Impact Factors: 2.75\n"
     ]
    }
   ],
   "source": [
    "# Technical Impact Factors\n",
    "\n",
    "# Loss of confidentiality\n",
    "# How much data could be disclosed and how sensitive is it? \n",
    "# * Minimal non-sensitive data disclosed (2), \n",
    "# * minimal critical data disclosed (6), \n",
    "# * extensive non-sensitive data disclosed (6), \n",
    "# * extensive critical data disclosed (7), \n",
    "# * all data disclosed (9)\n",
    "loss_of_confidentiality = 4\n",
    "loss_of_confidentiality_weight = 0.25\n",
    "\n",
    "# Loss of integrity\n",
    "# How much data could be corrupted and how damaged is it? \n",
    "# * Minimal slightly corrupt data (1), \n",
    "# * minimal seriously corrupt data (3), \n",
    "# * extensive slightly corrupt data (5), \n",
    "# * extensive seriously corrupt data (7), \n",
    "# * all data totally corrupt (9)\n",
    "loss_of_integrity = 3\n",
    "loss_of_integrity_weight = 0.25\n",
    "\n",
    "# Loss of availability\n",
    "# How much service could be lost and how vital is it? \n",
    "# * Minimal secondary services interrupted (1), \n",
    "# * minimal primary services interrupted (5), \n",
    "# * extensive secondary services interrupted (5), \n",
    "# * extensive primary services interrupted (7), \n",
    "# * all services completely lost (9)\n",
    "loss_of_availability = 2\n",
    "loss_of_availability_weight = 0.25\n",
    "\n",
    "# Loss of accountability\n",
    "# Are the threat agents' actions traceable to an individual? \n",
    "# * Fully traceable (1), possibly traceable (7), completely anonymous (9)\n",
    "loss_of_accountability = 2\n",
    "loss_of_accountability_weight = 0.25\n",
    "\n",
    "technical_impact_factors = (loss_of_confidentiality * loss_of_confidentiality_weight + loss_of_integrity * loss_of_integrity_weight + loss_of_availability * loss_of_availability_weight + loss_of_accountability * loss_of_accountability_weight) / (loss_of_confidentiality_weight+loss_of_integrity_weight+loss_of_availability_weight+loss_of_accountability_weight)\n",
    "\n",
    "print('Technical Impact Factors: {}'.format(technical_impact_factors))"
   ]
  },
  {
   "cell_type": "code",
   "execution_count": 26,
   "metadata": {
    "collapsed": false
   },
   "outputs": [
    {
     "name": "stdout",
     "output_type": "stream",
     "text": [
      "Business Impact Factors: 2.75\n"
     ]
    }
   ],
   "source": [
    "# Business Impact Factors\n",
    "\n",
    "# Financial Damage\n",
    "# * How much financial damage will result from an exploit? \n",
    "# * Less than the cost to fix the vulnerability (1), \n",
    "# * minor effect on annual profit (3), \n",
    "# * significant effect on annual profit (7), \n",
    "# * bankruptcy (9)\n",
    "financial_damage = 3\n",
    "financial_damage_weight = 0.25\n",
    "\n",
    "\n",
    "# Reputation damage\n",
    "# Would an exploit result in reputation damage that would harm the business? \n",
    "# * Minimal damage (1), \n",
    "# * Loss of major accounts (4), \n",
    "# * loss of goodwill (5),\n",
    "# * brand damage (9)\n",
    "reputation_damage = 7\n",
    "reputation_damage_weight = 0.25\n",
    "\n",
    "# Non-compliance\n",
    "# * How much exposure does non-compliance introduce?\n",
    "# * Minor violation (2), clear violation (5), high profile violation (7)\n",
    "non_compliance = 4\n",
    "non_compliance_weight = 0.25\n",
    "\n",
    "# Privacy violation\n",
    "# How much personally identifiable information could be disclosed? \n",
    "# * One individual (3), hundreds of people (5), thousands of people (7), millions of people (9)\n",
    "privacy_violation = 3\n",
    "privacy_violation_weight = 0.25\n",
    "\n",
    "business_impact_factors = (financial_damage * financial_damage_weight + reputation_damage * reputation_damage_weight + non_compliance * non_compliance_weight + privacy_violation * privacy_violation_weight) / (financial_damage_weight + reputation_damage_weight + non_compliance_weight + privacy_violation_weight)\n",
    "\n",
    "print('Business Impact Factors: {}'.format(technical_impact_factors))"
   ]
  },
  {
   "cell_type": "code",
   "execution_count": 28,
   "metadata": {
    "collapsed": false
   },
   "outputs": [
    {
     "name": "stdout",
     "output_type": "stream",
     "text": [
      "Countermeasure Costs: 5.900000000000001\n"
     ]
    }
   ],
   "source": [
    "# Countermeasure Costs\n",
    "\n",
    "# Development Time\n",
    "# How long will it take to develop the countermeasure? \n",
    "# * One person less than a week (1), \n",
    "# * small team less then a month (3), \n",
    "# * project less than 3 months (6), \n",
    "# * major reform more than 6 months (9)\n",
    "development_time = 2\n",
    "development_time_weight = 0.1\n",
    "\n",
    "# 3rd Party Service/Solutions\n",
    "# Cost of 3rd party services and/or solutions?\n",
    "# * Minor costs (2), \n",
    "# * One time moderate acquisition costs (4), \n",
    "# * Moderate acquisition and ongoing support/license costs (6),\n",
    "# * Major Acquisition and ongoing support/license costs (9)\n",
    "external_support = 7\n",
    "external_support_weight = 0.3\n",
    "\n",
    "# Operation Time\n",
    "# How many people will be required to operate the countermeasures? \n",
    "# * Automated, minor operation (1),\n",
    "# * Once a week (2),\n",
    "# * Half time of one staff (4),\n",
    "# * Priority of few staffs (7), \n",
    "# * full team full time (9)\n",
    "operation_time = 6\n",
    "operation_time_weight = 0.4\n",
    "\n",
    "# Technical Debt\t0.2\n",
    "# How much this countermeasure will make the system hard to maintain?\n",
    "# * Minor debt (3), \n",
    "# * few dependencies, moderate modifications (6)\n",
    "# * Major dependencies and Architecture change (9)\n",
    "technical_debt = 6\n",
    "technical_debt_weight = 0.2\n",
    "\n",
    "counteremasure_costs = (development_time * development_time_weight + external_support * external_support_weight + operation_time * operation_time_weight + technical_debt * technical_debt_weight) / (development_time_weight + external_support_weight + operation_time_weight + technical_debt_weight)\n",
    "\n",
    "print('Countermeasure Costs: {}'.format(counteremasure_costs))"
   ]
  },
  {
   "cell_type": "code",
   "execution_count": 30,
   "metadata": {
    "collapsed": false
   },
   "outputs": [
    {
     "name": "stdout",
     "output_type": "stream",
     "text": [
      "Classification Impact if Player1 is A Type: 0.4\n",
      "Classification Impact if Player1 is B Type: 8.4\n"
     ]
    }
   ],
   "source": [
    "# Classification Impact\n",
    "\n",
    "# Loss of sales\n",
    "# How much sales could be lost if we block a legitimate customer? \n",
    "# * 1000¥ (1), 10,000¥ (3), 50,000¥ (7), 100,000 (9)\n",
    "loss_of_sales_AType = 2\n",
    "loss_of_sales_BType = 9\n",
    "loss_of_sales_weight = 0.2\n",
    "\n",
    "# Loss of customer\n",
    "# How many legitimiate customers are we likely to lose? \n",
    "# Customers will come back (1), 1% will not come back (3), 10% will not come back (7), 50% will not come back (9)\n",
    "loss_of_customer_AType = 0\n",
    "loss_of_customer_BType = 8\n",
    "loss_of_customer_weight = 0.2\n",
    "\n",
    "# Bad Publicity\t0.4\n",
    "# What kind of coverage will we get if we block the users?\n",
    "# * private complains (1), Complains on twitter without hashtag (3), Complains #company (6), National News coverage (9)\n",
    "bad_publicity_AType = 0\n",
    "bad_publicity_BType = 9\n",
    "bad_publicity_weight = 0.4\n",
    "\n",
    "# CS Calls\t0.2\n",
    "# Impact on the CS team for support: \n",
    "# one per day (1), less than 5 per day (3), 20 or more per day (5), 100 or more per day (7) 1000 or more per day (9)\n",
    "customer_service_calls_AType = 0\n",
    "customer_service_calls_BType = 7\n",
    "customer_service_calls_weight = 0.2\n",
    "        \n",
    "classification_impact_AType = (loss_of_sales_AType * loss_of_sales_weight) + (loss_of_customer_AType  * loss_of_customer_weight) + (bad_publicity_AType * bad_publicity_weight) + (customer_service_calls_AType * customer_service_calls_weight) / (loss_of_sales_weight + loss_of_customer_weight + bad_publicity_weight + customer_service_calls_weight)\n",
    "classification_impact_BType = (loss_of_sales_BType * loss_of_sales_weight) + (loss_of_customer_BType  * loss_of_customer_weight) + (bad_publicity_BType * bad_publicity_weight) + (customer_service_calls_BType * customer_service_calls_weight) / (loss_of_sales_weight + loss_of_customer_weight + bad_publicity_weight + customer_service_calls_weight)\n",
    "\n",
    "\n",
    "print('Classification Impact if Player1 is A Type: {}'.format(classification_impact_AType))\n",
    "print('Classification Impact if Player1 is B Type: {}'.format(classification_impact_BType))"
   ]
  },
  {
   "cell_type": "code",
   "execution_count": 31,
   "metadata": {
    "collapsed": false
   },
   "outputs": [],
   "source": [
    "strategy = {\n",
    "    'player1': ['dishonest', 'honest'],\n",
    "    'player2': ['block', 'serve']\n",
    "}\n",
    "\n",
    "player1AType = np.array([\n",
    "    [ \n",
    "        -1 * (threat_agent_factors + vulnerability_factors) / 2, # honest/block: Waste of talent and time\n",
    "        technical_impact_factors # honest/serve: player1 can learn\n",
    "    ], \n",
    "    [\n",
    "        -1 * threat_agent_factors, # abuse/block: Waste of time for player1\n",
    "        (threat_agent_factors + vulnerability_factors) / 2 # abuse/serve: (player1 sweet spot): profit, depending on the difficulty\n",
    "    ]\n",
    "])\n",
    "player2AType = np.array([\n",
    "    [\n",
    "        classification_impact_AType, # honest/block: player2 prevents the attacker from learning\n",
    "        threat_agent_factors #honest/serve: makes it harder for player2 to identify normal/dishonest actions\n",
    "    ], \n",
    "    [\n",
    "        (technical_impact_factors + business_impact_factors - counteremasure_costs)/3, # abuse/block: prevent the risk \n",
    "        -1 * (technical_impact_factors + business_impact_factors + counteremasure_costs)/3 # abuse/serve: failure to prevent the risk\n",
    "    ]\n",
    "])\n",
    "\n",
    "player1BType = np.array([\n",
    "    [\n",
    "        -1 * classification_impact_BType, # honest/block: player1 can't enjoy our site, and will probably be annoyed\n",
    "        classification_impact_BType # honest/serve: player1 is happy.\n",
    "    ], \n",
    "    [\n",
    "        -1 * classification_impact_BType, # abuse/block: player1 is not acting normally. \n",
    "        -1 * (classification_impact_AType + classification_impact_BType) # abuse/serve: player1 is not acting normally, and not beling blocked\n",
    "    ]\n",
    "])\n",
    "player2BType = np.array([\n",
    "    [\n",
    "        -1 * classification_impact_BType, # honest/block: worst case for player2, blocking good customers\n",
    "        classification_impact_BType, # honest/serve player2 sweet spot: profit\n",
    "    ], \n",
    "    [\n",
    "        (technical_impact_factors + business_impact_factors - counteremasure_costs)/3, # player2 can't distinguish between A Type and B Type\n",
    "        -1 * (technical_impact_factors + business_impact_factors + counteremasure_costs)/3\n",
    "    ]\n",
    "])\n",
    "\n"
   ]
  },
  {
   "cell_type": "code",
   "execution_count": 32,
   "metadata": {
    "collapsed": false
   },
   "outputs": [
    {
     "name": "stdout",
     "output_type": "stream",
     "text": [
      "The autoreload extension is already loaded. To reload it, use:\n",
      "  %reload_ext autoreload\n"
     ]
    }
   ],
   "source": [
    "%load_ext autoreload\n",
    "%autoreload 2\n",
    "\n",
    "import nashpy as nash\n",
    "import numpy as np\n",
    "# from graphviz_helper import render_game"
   ]
  },
  {
   "cell_type": "code",
   "execution_count": 48,
   "metadata": {
    "collapsed": false
   },
   "outputs": [
    {
     "name": "stdout",
     "output_type": "stream",
     "text": [
      "Nash Equilibria\n",
      "If player1 is A Type\n",
      "player1: honest with probability 0.7647058823529411 [-7.0, -6.0]\n",
      "player2: block with probability 0.7647058823529411 [0.36666666666666625, -4.300000000000001]\n",
      "If player1 is B Type\n",
      "player1: dishonest with probability 1.0 [8.4, -8.8]\n",
      "player2: serve with probability 1.0 [8.4, -8.4]\n",
      "Player2 should \"block\" player1 if he believes player1 is \"honest\" with probability p=0.5916149068322981\n",
      "player1: honest with probability 1.0 [-8.4, -8.4]\n",
      "player2: block with probability 1.0 [0.36666666666666625, -4.300000000000001]\n",
      "Player2 should \"block\" player1 if he believes player1 is \"honest\" with probability p=0.5916149068322981\n"
     ]
    },
    {
     "name": "stderr",
     "output_type": "stream",
     "text": [
      "/Users/simon/anaconda/lib/python3.6/site-packages/nashpy/algorithms/support_enumeration.py:179: RuntimeWarning: \n",
      "An even number of (2) equilibria was returned. This\n",
      "indicates that the game is degenerate. Consider using another algorithm\n",
      "to investigate.\n",
      "                  \n",
      "  warnings.warn(warning, RuntimeWarning)\n"
     ]
    }
   ],
   "source": [
    "aType = nash.Game(player1AType, player2AType)\n",
    "bType = nash.Game(player1BType, player2BType)\n",
    "\n",
    "print('Nash Equilibria')\n",
    "\n",
    "choices = {'player1': [], 'player2': []}\n",
    "print('If player1 is A Type')\n",
    "aType_equilibria = aType.support_enumeration()\n",
    "for eq in aType_equilibria:\n",
    "    bestP1 = np.argmax(eq[0])\n",
    "    bestP2 = np.argmax(eq[1])\n",
    "    notBestP1 = np.argmin(eq[0])\n",
    "    notBestP2 = np.argmin(eq[1])\n",
    "    print('player1:', strategy['player1'][bestP1], \n",
    "          'with probability', eq[bestP1][0], [player1AType[bestP1][bestP2], player1AType[notBestP1][bestP2]])\n",
    "    print('player2:', strategy['player2'][bestP2], \n",
    "          'with probability', eq[1][bestP2], [player2AType[bestP1][bestP2], player2AType[bestP1][notBestP2]])\n",
    "    choices['player1'].append({\n",
    "        'strategy': strategy['player1'][bestP1], \n",
    "        'probability': eq[0][bestP1],\n",
    "        'idx': bestP1,\n",
    "        'payoff': [player1AType[bestP1][bestP2], player1AType[notBestP1][bestP2]]\n",
    "    })\n",
    "    choices['player2'].append({\n",
    "        'strategy': strategy['player2'][bestP2], \n",
    "        'probability': eq[0][bestP1],\n",
    "        'idx': bestP2,\n",
    "        'payoff': [player2AType[bestP1][bestP2], player2AType[bestP1][notBestP2]]\n",
    "    })\n",
    "\n",
    "print('If player1 is B Type')\n",
    "bType_equilibria = bType.support_enumeration()\n",
    "for eq in bType_equilibria:\n",
    "    bestP1 = np.argmax(eq[0])\n",
    "    bestP2 = np.argmax(eq[1])\n",
    "    notBestP1 = np.argmin(eq[0])\n",
    "    notBestP2 = np.argmin(eq[1])\n",
    "    print('player1:', strategy['player1'][bestP1], \n",
    "          'with probability', eq[bestP1][0], [player1BType[bestP1][bestP2], player1BType[notBestP1][bestP2]])\n",
    "    print('player2:', strategy['player2'][bestP2], \n",
    "          'with probability', eq[1][bestP2], [player2BType[bestP1][bestP2], player2BType[bestP1][notBestP2]])\n",
    "    choices['player1'].append({\n",
    "        'strategy': strategy['player1'][bestP1], \n",
    "        'probability': eq[0][bestP1],\n",
    "        'idx': bestP1,\n",
    "        'payoff': [player1BType[bestP1][bestP2], player1BType[notBestP1][bestP2]]\n",
    "    })\n",
    "    choices['player2'].append({\n",
    "        'strategy': strategy['player2'][bestP2], \n",
    "        'probability': eq[0][bestP1],\n",
    "        'idx': bestP2,\n",
    "        'payoff': [player2BType[bestP1][bestP2], player2BType[bestP1][notBestP2]]\n",
    "    })\n",
    "\n",
    "    p2 = choices['player2']\n",
    "    a = p2[0]['payoff'][0]\n",
    "    b = p2[1]['payoff'][1]\n",
    "    c = p2[0]['payoff'][1]\n",
    "    d = p2[1]['payoff'][0]\n",
    "    # print(choices['player1'])\n",
    "    # print(choices['player2'])\n",
    "    p = (d-c)/(a-c+d-b)\n",
    "\n",
    "    print('Player2 should \"{}\" player1 if he believes player1 is \"{}\" with probability p={}'.format(strategy['player2'][choices['player2'][0]['idx']], strategy['player1'][choices['player1'][0]['idx']], p))"
   ]
  },
  {
   "cell_type": "code",
   "execution_count": 11,
   "metadata": {
    "collapsed": false
   },
   "outputs": [
    {
     "data": {
      "image/svg+xml": [
       "<?xml version=\"1.0\" encoding=\"UTF-8\" standalone=\"no\"?>\n",
       "<!DOCTYPE svg PUBLIC \"-//W3C//DTD SVG 1.1//EN\"\n",
       " \"http://www.w3.org/Graphics/SVG/1.1/DTD/svg11.dtd\">\n",
       "<!-- Generated by graphviz version 2.40.1 (20161225.0304)\n",
       " -->\n",
       "<!-- Title: html_table Pages: 1 -->\n",
       "<svg width=\"62pt\" height=\"46pt\"\n",
       " viewBox=\"0.00 0.00 62.00 46.18\" xmlns=\"http://www.w3.org/2000/svg\" xmlns:xlink=\"http://www.w3.org/1999/xlink\">\n",
       "<g id=\"graph0\" class=\"graph\" transform=\"scale(1 1) rotate(0) translate(4 42.1838)\">\n",
       "<title>html_table</title>\n",
       "<polygon fill=\"#ffffff\" stroke=\"transparent\" points=\"-4,4 -4,-42.1838 58,-42.1838 58,4 -4,4\"/>\n",
       "<!-- tab -->\n",
       "<g id=\"node1\" class=\"node\">\n",
       "<title>tab</title>\n",
       "<ellipse fill=\"none\" stroke=\"#000000\" cx=\"27\" cy=\"-19.0919\" rx=\"27\" ry=\"19.1842\"/>\n",
       "<polygon fill=\"none\" stroke=\"#000000\" points=\"19,-15.0919 19,-28.0919 35,-28.0919 35,-15.0919 19,-15.0919\"/>\n",
       "<text text-anchor=\"start\" x=\"21.9465\" y=\"-19.4919\" font-family=\"Times,serif\" font-size=\"7.00\" fill=\"#000000\">xyz</text>\n",
       "<polygon fill=\"none\" stroke=\"#000000\" points=\"19,-9.0919 19,-15.0919 35,-15.0919 35,-9.0919 19,-9.0919\"/>\n",
       "</g>\n",
       "</g>\n",
       "</svg>\n"
      ],
      "text/plain": [
       "<graphviz.dot.Graph at 0x107619438>"
      ]
     },
     "execution_count": 11,
     "metadata": {},
     "output_type": "execute_result"
    }
   ],
   "source": [
    "# g = render_game(players, types, beliefs, strategies, payoffs)\n",
    "\n",
    "# g"
   ]
  }
 ],
 "metadata": {
  "kernelspec": {
   "display_name": "Python 3",
   "language": "python",
   "name": "python3"
  },
  "language_info": {
   "codemirror_mode": {
    "name": "ipython",
    "version": 3
   },
   "file_extension": ".py",
   "mimetype": "text/x-python",
   "name": "python",
   "nbconvert_exporter": "python",
   "pygments_lexer": "ipython3",
   "version": "3.6.0"
  }
 },
 "nbformat": 4,
 "nbformat_minor": 2
}
